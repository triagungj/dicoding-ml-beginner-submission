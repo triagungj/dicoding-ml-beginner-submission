{
  "cells": [
    {
      "cell_type": "markdown",
      "metadata": {
        "id": "view-in-github",
        "colab_type": "text"
      },
      "source": [
        "<a href=\"https://colab.research.google.com/github/triagungj/dicoding-ml-beginner-submission/blob/master/Codes/BMLP%20Submission%20Tri%20Agung%20Jiwandono.ipynb\" target=\"_parent\"><img src=\"https://colab.research.google.com/assets/colab-badge.svg\" alt=\"Open In Colab\"/></a>"
      ]
    },
    {
      "cell_type": "markdown",
      "metadata": {
        "id": "0tvAKGat01Sd"
      },
      "source": [
        "# **Penting**\n",
        "- Jangan mengubah atau menambahkan cell text yang sudah disediakan, Anda hanya perlu mengerjakan cell code yang sudah disediakan.\n",
        "- Pastikan seluruh kriteria memiliki output yang sesuai, karena jika tidak ada output dianggap tidak selesai.\n",
        "- Misal, Anda menggunakan df = df.dropna() silakan gunakan df.isnull().sum() sebagai tanda sudah berhasil. Silakan sesuaikan seluruh output dengan perintah yang sudah disediakan.\n",
        "- Pastikan Anda melakukan Run All sebelum mengirimkan submission untuk memastikan seluruh cell berjalan dengan baik.\n",
        "- Pastikan Anda menggunakan variabel df dari awal sampai akhir dan tidak diperbolehkan mengganti nama variabel tersebut.\n",
        "- Hapus simbol pagar (#) pada kode yang bertipe komentar jika Anda menerapkan kriteria tambahan\n",
        "- Biarkan simbol pagar (#) jika Anda tidak menerapkan kriteria tambahan\n",
        "- Pastikan Anda mengerjakan sesuai section yang sudah diberikan tanpa mengubah judul atau header yang disediakan."
      ]
    },
    {
      "cell_type": "markdown",
      "metadata": {
        "id": "fKADPWcFKlj3"
      },
      "source": [
        "# **1. Import Library**\n",
        "Pada tahap ini, Anda perlu mengimpor beberapa pustaka (library) Python yang dibutuhkan untuk analisis data dan pembangunan model machine learning."
      ]
    },
    {
      "cell_type": "code",
      "execution_count": null,
      "metadata": {
        "id": "BlmvjLY9M4Yj"
      },
      "outputs": [],
      "source": [
        "import pandas as pd\n",
        "from pathlib import Path\n",
        "\n",
        "from sklearn.model_selection import train_test_split\n",
        "from sklearn.tree import DecisionTreeClassifier\n",
        "from sklearn.ensemble import RandomForestClassifier\n",
        "from sklearn.metrics import accuracy_score, precision_score, recall_score, f1_score, classification_report\n",
        "import joblib\n",
        "\n",
        "\n",
        "def resolve_results_path() -> Path:\n",
        "    \"\"\"Cari folder Results relatif terhadap notebook.\"\"\"\n",
        "    cwd = Path.cwd()\n",
        "    candidates = [cwd / 'Results', cwd.parent / 'Results']\n",
        "    for candidate in candidates:\n",
        "        if candidate.exists():\n",
        "            return candidate\n",
        "    raise FileNotFoundError(\"Folder 'Results' tidak ditemukan dari direktori kerja saat ini.\")\n",
        "\n",
        "\n",
        "def evaluate_model(model, X_test, y_test, average: str = 'weighted'):\n",
        "    \"\"\"Hitung metrik utama dan laporkan klasifikasi penuh.\"\"\"\n",
        "    y_pred = model.predict(X_test)\n",
        "    metrics = {\n",
        "        'accuracy': accuracy_score(y_test, y_pred),\n",
        "        'precision': precision_score(y_test, y_pred, average=average, zero_division=0),\n",
        "        'recall': recall_score(y_test, y_pred, average=average, zero_division=0),\n",
        "        'f1_score': f1_score(y_test, y_pred, average=average, zero_division=0),\n",
        "    }\n",
        "    report = classification_report(y_test, y_pred)\n",
        "    return metrics, report\n"
      ]
    },
    {
      "cell_type": "markdown",
      "metadata": {
        "id": "f3YIEnAFKrKL"
      },
      "source": [
        "# **2. Memuat Dataset dari Hasil Clustering**\n",
        "Memuat dataset hasil clustering dari file CSV ke dalam variabel DataFrame."
      ]
    },
    {
      "cell_type": "code",
      "execution_count": null,
      "metadata": {
        "id": "GHCGNTyrM5fS"
      },
      "outputs": [],
      "source": [
        "# Memuat dataset hasil clustering yang memiliki label Target\n",
        "results_dir = resolve_results_path()\n",
        "data_path = results_dir / 'data_clustering.csv'\n",
        "df = pd.read_csv(data_path)\n",
        "print(f'Dataset dimuat dari: {data_path}')\n",
        "print(f'Banyak baris, kolom: {df.shape}')\n",
        "print('Distribusi label Target:')\n",
        "print(df['Target'].value_counts().sort_index())\n"
      ]
    },
    {
      "cell_type": "code",
      "execution_count": null,
      "metadata": {
        "id": "bCsep0NZ0LUf"
      },
      "outputs": [],
      "source": [
        "# Menampilkan 5 baris pertama untuk memastikan data siap digunakan\n",
        "df.head()"
      ]
    },
    {
      "cell_type": "markdown",
      "metadata": {
        "id": "KkPem5eWL2UP"
      },
      "source": [
        "# **3. Data Splitting**\n",
        "Tahap Data Splitting bertujuan untuk memisahkan dataset menjadi dua bagian: data latih (training set) dan data uji (test set)."
      ]
    },
    {
      "cell_type": "code",
      "execution_count": null,
      "metadata": {
        "id": "OubAW-7ONKVj"
      },
      "outputs": [],
      "source": [
        "# Menyiapkan fitur (X) dan label (y) kemudian membagi menjadi data latih dan uji\n",
        "feature_columns = [col for col in df.columns if col != 'Target']\n",
        "X = df[feature_columns]\n",
        "y = df['Target']\n",
        "\n",
        "X_train, X_test, y_train, y_test = train_test_split(\n",
        "    X, y, test_size=0.2, random_state=42, stratify=y\n",
        ")\n",
        "\n",
        "print('Ukuran data latih:', X_train.shape)\n",
        "print('Ukuran data uji  :', X_test.shape)\n"
      ]
    },
    {
      "cell_type": "markdown",
      "metadata": {
        "id": "IVPbB03CMhTT"
      },
      "source": [
        "# **4. Membangun Model Klasifikasi**\n",
        "Setelah memilih algoritma klasifikasi yang sesuai, langkah selanjutnya adalah melatih model menggunakan data latih.\n",
        "\n",
        "Berikut adalah rekomendasi tahapannya.\n",
        "1. Menggunakan algoritma klasifikasi yaitu Decision Tree.\n",
        "2. Latih model menggunakan data yang sudah dipisah."
      ]
    },
    {
      "cell_type": "code",
      "execution_count": null,
      "metadata": {
        "id": "4JYxBe87NLDk"
      },
      "outputs": [],
      "source": [
        "# Melatih model klasifikasi Decision Tree pada data latih\n",
        "decision_tree_model = DecisionTreeClassifier(random_state=42)\n",
        "decision_tree_model.fit(X_train, y_train)\n",
        "\n",
        "dt_metrics, dt_report = evaluate_model(decision_tree_model, X_test, y_test)\n",
        "print('Metrik evaluasi Decision Tree:')\n",
        "print(pd.DataFrame([dt_metrics]).round(4))\n",
        "print('\n",
        "Laporan klasifikasi Decision Tree:\n",
        "')\n",
        "print(dt_report)\n"
      ]
    },
    {
      "cell_type": "code",
      "execution_count": null,
      "metadata": {
        "id": "P_AakAxghYv-"
      },
      "outputs": [],
      "source": [
        "# Menyimpan model Decision Tree terlatih\n",
        "decision_tree_path = results_dir / 'decision_tree_model.h5'\n",
        "joblib.dump(decision_tree_model, decision_tree_path)\n",
        "print(f'Model Decision Tree disimpan ke: {decision_tree_path}')\n"
      ]
    },
    {
      "cell_type": "markdown",
      "metadata": {
        "id": "epO4HhrzBXMg"
      },
      "source": [
        "# **5. Memenuhi Kriteria Skilled dan Advanced dalam Membangun Model Klasifikasi**\n",
        "\n"
      ]
    },
    {
      "cell_type": "markdown",
      "metadata": {
        "id": "DNOEZk24uiXu"
      },
      "source": [
        "**Biarkan kosong jika tidak menerapkan kriteria skilled atau advanced**"
      ]
    },
    {
      "cell_type": "code",
      "execution_count": null,
      "metadata": {
        "id": "kB_8LIWMATl6"
      },
      "outputs": [],
      "source": [
        "# Melatih model klasifikasi lain untuk eksplorasi (Random Forest)\n",
        "random_forest_model = RandomForestClassifier(n_estimators=200, random_state=42)\n",
        "random_forest_model.fit(X_train, y_train)\n"
      ]
    },
    {
      "cell_type": "code",
      "execution_count": null,
      "metadata": {
        "id": "bRlKm5BVAT91"
      },
      "outputs": [],
      "source": [
        "# Menampilkan metrik akurasi, presisi, recall, dan F1-score model eksplorasi\n",
        "rf_metrics, rf_report = evaluate_model(random_forest_model, X_test, y_test)\n",
        "print('Metrik evaluasi Random Forest:')\n",
        "print(pd.DataFrame([rf_metrics]).round(4))\n",
        "print('Laporan klasifikasi Random Forest:')\n",
        "print(rf_report)\n"
      ]
    },
    {
      "cell_type": "code",
      "execution_count": null,
      "metadata": {
        "id": "dUPItkbXBNkO"
      },
      "outputs": [],
      "source": [
        "# Menyimpan model eksplorasi Random Forest\n",
        "rf_model_path = results_dir / 'explore_random_forest_classification.h5'\n",
        "joblib.dump(random_forest_model, rf_model_path)\n",
        "print(f'Model eksplorasi disimpan ke: {rf_model_path}')\n"
      ]
    },
    {
      "cell_type": "markdown",
      "metadata": {
        "id": "u23H2guj-h9h"
      },
      "source": [
        "Hyperparameter Tuning Model\n",
        "\n",
        "Pilih salah satu algoritma yang ingin Anda tuning"
      ]
    },
    {
      "cell_type": "code",
      "execution_count": null,
      "metadata": {
        "id": "dFCTxJJq-m-l"
      },
      "outputs": [],
      "source": [
        "# Lakukan Hyperparameter Tuning dan Latih ulang.\n",
        "# Lakukan dalam satu cell ini saja.\n",
        "from sklearn.model_selection import GridSearchCV\n",
        "\n",
        "# Menggunakan Random Forest sebagai kandidat tuning\n",
        "rf_param_grid = {\n",
        "    'n_estimators': [120, 160],\n",
        "    'max_depth': [None, 12],\n",
        "    'min_samples_split': [2, 4],\n",
        "}\n",
        "\n",
        "rf_grid_search = GridSearchCV(\n",
        "    estimator=RandomForestClassifier(random_state=42),\n",
        "    param_grid=rf_param_grid,\n",
        "    cv=3,\n",
        "    scoring='f1_weighted',\n",
        "    n_jobs=1,\n",
        "    verbose=0\n",
        ")\n",
        "\n",
        "rf_grid_search.fit(X_train, y_train)\n",
        "\n",
        "print('Best Params Random Forest:', rf_grid_search.best_params_)\n",
        "print('Best CV Score:', rf_grid_search.best_score_)\n",
        "\n",
        "tuning_model = rf_grid_search.best_estimator_"
      ]
    },
    {
      "cell_type": "code",
      "execution_count": null,
      "metadata": {
        "id": "1g6EPSSWxjcQ"
      },
      "outputs": [],
      "source": [
        "# Menampilkan hasil evaluasi akurasi, presisi, recall, dan F1-Score pada algoritma yang sudah dituning.\n",
        "tuning_metrics, tuning_report = evaluate_model(tuning_model, X_test, y_test)\n",
        "print('Metrik evaluasi model hasil tuning:')\n",
        "print(pd.DataFrame([tuning_metrics]).round(4))\n",
        "print('\n",
        "Laporan klasifikasi model hasil tuning:\n",
        "')\n",
        "print(tuning_report)\n"
      ]
    },
    {
      "cell_type": "code",
      "execution_count": null,
      "metadata": {
        "id": "7UJNcVP--n7S"
      },
      "outputs": [],
      "source": [
        "# Menyimpan Model hasil tuning\n",
        "tuning_model_path = results_dir / 'tuning_classification.h5'\n",
        "joblib.dump(tuning_model, tuning_model_path)\n",
        "print(f'Model hasil tuning disimpan ke: {tuning_model_path}')\n"
      ]
    },
    {
      "cell_type": "markdown",
      "metadata": {
        "id": "0Hs4Xp4OiGEk"
      },
      "source": [
        "End of Code"
      ]
    }
  ],
  "metadata": {
    "colab": {
      "provenance": [],
      "include_colab_link": true
    },
    "kernelspec": {
      "display_name": "Python 3",
      "name": "python3"
    },
    "language_info": {
      "name": "python",
      "version": "3.13.1"
    }
  },
  "nbformat": 4,
  "nbformat_minor": 0
}