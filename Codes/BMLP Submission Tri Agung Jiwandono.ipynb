{
  "cells": [
    {
      "cell_type": "markdown",
      "metadata": {
        "id": "0tvAKGat01Sd"
      },
      "source": [
        "# **Penting**\n",
        "- Jangan mengubah atau menambahkan cell text yang sudah disediakan, Anda hanya perlu mengerjakan cell code yang sudah disediakan.\n",
        "- Pastikan seluruh kriteria memiliki output yang sesuai, karena jika tidak ada output dianggap tidak selesai.\n",
        "- Misal, Anda menggunakan df = df.dropna() silakan gunakan df.isnull().sum() sebagai tanda sudah berhasil. Silakan sesuaikan seluruh output dengan perintah yang sudah disediakan.\n",
        "- Pastikan Anda melakukan Run All sebelum mengirimkan submission untuk memastikan seluruh cell berjalan dengan baik.\n",
        "- Pastikan Anda menggunakan variabel df dari awal sampai akhir dan tidak diperbolehkan mengganti nama variabel tersebut.\n",
        "- Hapus simbol pagar (#) pada kode yang bertipe komentar jika Anda menerapkan kriteria tambahan\n",
        "- Biarkan simbol pagar (#) jika Anda tidak menerapkan kriteria tambahan\n",
        "- Pastikan Anda mengerjakan sesuai section yang sudah diberikan tanpa mengubah judul atau header yang disediakan."
      ]
    },
    {
      "cell_type": "markdown",
      "metadata": {
        "id": "fKADPWcFKlj3"
      },
      "source": [
        "# **1. Import Library**\n",
        "Pada tahap ini, Anda perlu mengimpor beberapa pustaka (library) Python yang dibutuhkan untuk analisis data dan pembangunan model machine learning."
      ]
    },
    {
      "cell_type": "code",
      "execution_count": null,
      "metadata": {
        "id": "BlmvjLY9M4Yj"
      },
      "outputs": [],
      "source": [
        "import pandas as pd\n",
        "from pathlib import Path\n",
        "\n",
        "from sklearn.model_selection import train_test_split\n",
        "from sklearn.tree import DecisionTreeClassifier\n",
        "from sklearn.ensemble import RandomForestClassifier\n",
        "from sklearn.metrics import accuracy_score, precision_score, recall_score, f1_score, classification_report\n",
        "from sklearn.model_selection import GridSearchCV\n",
        "import joblib\n",
        "\n",
        "\n",
        "def evaluate_model(model, X_test, y_test, average: str = 'weighted'):\n",
        "    \"\"\"Hitung metrik utama dan laporkan klasifikasi penuh.\"\"\"\n",
        "    y_pred = model.predict(X_test)\n",
        "    metrics = {\n",
        "        'accuracy': accuracy_score(y_test, y_pred),\n",
        "        'precision': precision_score(y_test, y_pred, average=average, zero_division=0),\n",
        "        'recall': recall_score(y_test, y_pred, average=average, zero_division=0),\n",
        "        'f1_score': f1_score(y_test, y_pred, average=average, zero_division=0),\n",
        "    }\n",
        "    report = classification_report(y_test, y_pred)\n",
        "    return metrics, report\n"
      ]
    },
    {
      "cell_type": "markdown",
      "metadata": {
        "id": "f3YIEnAFKrKL"
      },
      "source": [
        "# **2. Memuat Dataset dari Hasil Clustering**\n",
        "Memuat dataset hasil clustering dari file CSV ke dalam variabel DataFrame."
      ]
    },
    {
      "cell_type": "code",
      "execution_count": null,
      "metadata": {
        "id": "GHCGNTyrM5fS"
      },
      "outputs": [],
      "source": [
        "# Memuat dataset hasil clustering yang memiliki label Target\n",
        "\n",
        "# Url ini merupakan tautan yang merujuk pada `data_clustering.csv` pada proses clustering sebelumnya\n",
        "url='https://drive.google.com/uc?id=1xGZLX_ZVXvdqMdNaxWcqGGgsVIIYbkCC'\n",
        "df = pd.read_csv(url) # Ubah sesuai file tujuan yang diinginkan\n",
        "\n",
        "print(f'Banyak baris, kolom: {df.shape}')\n",
        "print('Distribusi label Target:')\n",
        "print(df['Target'].value_counts().sort_index())\n"
      ]
    },
    {
      "cell_type": "code",
      "execution_count": null,
      "metadata": {
        "id": "bCsep0NZ0LUf"
      },
      "outputs": [],
      "source": [
        "# Menampilkan 5 baris pertama untuk memastikan data siap digunakan\n",
        "df.head()"
      ]
    },
    {
      "cell_type": "markdown",
      "metadata": {
        "id": "KkPem5eWL2UP"
      },
      "source": [
        "# **3. Data Splitting**\n",
        "Tahap Data Splitting bertujuan untuk memisahkan dataset menjadi dua bagian: data latih (training set) dan data uji (test set)."
      ]
    },
    {
      "cell_type": "code",
      "execution_count": null,
      "metadata": {
        "id": "OubAW-7ONKVj"
      },
      "outputs": [],
      "source": [
        "# Menyiapkan fitur (X) dan label (y) kemudian membagi menjadi data latih dan uji\n",
        "feature_columns = [col for col in df.columns if col != 'Target']\n",
        "X = df[feature_columns]\n",
        "y = df['Target']\n",
        "\n",
        "X_train, X_test, y_train, y_test = train_test_split(\n",
        "    X, y, test_size=0.2, random_state=42, stratify=y\n",
        ")\n",
        "\n",
        "print('Ukuran data latih:', X_train.shape)\n",
        "print('Ukuran data uji  :', X_test.shape)\n"
      ]
    },
    {
      "cell_type": "markdown",
      "metadata": {
        "id": "IVPbB03CMhTT"
      },
      "source": [
        "# **4. Membangun Model Klasifikasi**\n",
        "Setelah memilih algoritma klasifikasi yang sesuai, langkah selanjutnya adalah melatih model menggunakan data latih.\n",
        "\n",
        "Berikut adalah rekomendasi tahapannya.\n",
        "1. Menggunakan algoritma klasifikasi yaitu Decision Tree.\n",
        "2. Latih model menggunakan data yang sudah dipisah."
      ]
    },
    {
      "cell_type": "code",
      "execution_count": null,
      "metadata": {
        "id": "4JYxBe87NLDk"
      },
      "outputs": [],
      "source": [
        "# Melatih model klasifikasi Decision Tree pada data latih\n",
        "decision_tree_model = DecisionTreeClassifier(random_state=42)\n",
        "decision_tree_model.fit(X_train, y_train)\n",
        "\n",
        "dt_metrics, dt_report = evaluate_model(decision_tree_model, X_test, y_test)\n",
        "print('Metrik evaluasi Decision Tree:')\n",
        "print(pd.DataFrame([dt_metrics]).round(4))\n",
        "print('Laporan klasifikasi Decision Tree:')\n",
        "print(dt_report)\n"
      ]
    },
    {
      "cell_type": "code",
      "execution_count": null,
      "metadata": {
        "id": "P_AakAxghYv-"
      },
      "outputs": [],
      "source": [
        "# Menyimpan model Decision Tree terlatih\n",
        "decision_tree_path = './decision_tree_model.h5'\n",
        "joblib.dump(decision_tree_model, decision_tree_path)\n",
        "print(f'Model Decision Tree disimpan ke: {decision_tree_path}')\n"
      ]
    },
    {
      "cell_type": "markdown",
      "metadata": {
        "id": "epO4HhrzBXMg"
      },
      "source": [
        "# **5. Memenuhi Kriteria Skilled dan Advanced dalam Membangun Model Klasifikasi**\n",
        "\n"
      ]
    },
    {
      "cell_type": "markdown",
      "metadata": {
        "id": "DNOEZk24uiXu"
      },
      "source": [
        "**Biarkan kosong jika tidak menerapkan kriteria skilled atau advanced**"
      ]
    },
    {
      "cell_type": "code",
      "execution_count": null,
      "metadata": {
        "id": "kB_8LIWMATl6"
      },
      "outputs": [],
      "source": [
        "# Melatih model klasifikasi lain untuk eksplorasi (Random Forest)\n",
        "random_forest_model = RandomForestClassifier(n_estimators=200, random_state=42)\n",
        "random_forest_model.fit(X_train, y_train)\n"
      ]
    },
    {
      "cell_type": "code",
      "execution_count": null,
      "metadata": {
        "id": "bRlKm5BVAT91"
      },
      "outputs": [],
      "source": [
        "# Menampilkan metrik akurasi, presisi, recall, dan F1-score model eksplorasi\n",
        "rf_metrics, rf_report = evaluate_model(random_forest_model, X_test, y_test)\n",
        "print('Metrik evaluasi Random Forest:')\n",
        "print(pd.DataFrame([rf_metrics]).round(4))\n",
        "print('Laporan klasifikasi Random Forest:')\n",
        "print(rf_report)\n"
      ]
    },
    {
      "cell_type": "code",
      "execution_count": null,
      "metadata": {
        "id": "dUPItkbXBNkO"
      },
      "outputs": [],
      "source": [
        "# Menyimpan model eksplorasi Random Forest\n",
        "rf_model_path = './explore_random_forest_classification.h5'\n",
        "joblib.dump(random_forest_model, rf_model_path)\n",
        "print(f'Model eksplorasi disimpan ke: {rf_model_path}')\n"
      ]
    },
    {
      "cell_type": "markdown",
      "metadata": {
        "id": "0Hs4Xp4OiGEk"
      },
      "source": [
        "End of Code"
      ]
    }
  ],
  "metadata": {
    "colab": {
      "provenance": []
    },
    "kernelspec": {
      "display_name": "Python 3",
      "name": "python3"
    },
    "language_info": {
      "name": "python",
      "version": "3.13.1"
    }
  },
  "nbformat": 4,
  "nbformat_minor": 0
}